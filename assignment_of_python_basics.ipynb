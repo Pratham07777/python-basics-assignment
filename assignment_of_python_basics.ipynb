{
  "nbformat": 4,
  "nbformat_minor": 0,
  "metadata": {
    "colab": {
      "provenance": [],
      "authorship_tag": "ABX9TyM98HAJdcLky2qfN+K+iHYp",
      "include_colab_link": true
    },
    "kernelspec": {
      "name": "python3",
      "display_name": "Python 3"
    },
    "language_info": {
      "name": "python"
    }
  },
  "cells": [
    {
      "cell_type": "markdown",
      "metadata": {
        "id": "view-in-github",
        "colab_type": "text"
      },
      "source": [
        "<a href=\"https://colab.research.google.com/github/Pratham07777/python-basics-assignment/blob/main/assignment_of_python_basics.ipynb\" target=\"_parent\"><img src=\"https://colab.research.google.com/assets/colab-badge.svg\" alt=\"Open In Colab\"/></a>"
      ]
    },
    {
      "cell_type": "markdown",
      "source": [
        "ASSIGNMENT OF PYTHON BASICS"
      ],
      "metadata": {
        "id": "XsLCy1bAD7bO"
      }
    },
    {
      "cell_type": "markdown",
      "source": [
        "## THEORY ANSWERS"
      ],
      "metadata": {
        "id": "TNflL-4ID1Hj"
      }
    },
    {
      "cell_type": "markdown",
      "source": [
        "\n",
        "\n",
        "---\n",
        "\n",
        "**1. What is Python, and why is it popular**\n",
        "-  Python is a high-level, interpreted programming language known for its simple syntax and readability. It supports multiple programming paradigms and has vast libraries. It's popular for web development, data science, automation, and AI. Its community support and ease of learning make it a top choice for beginners and professionals alike.\n",
        "\n",
        "---\n",
        "\n",
        "**2. What is an interpreter in Python**\n",
        "-  An interpreter is a program that reads and executes Python code line by line. Unlike compilers, interpreters don’t generate machine code files but run code directly. Python uses an interpreter to translate high-level code into machine-understandable instructions at runtime.\n",
        "\n",
        "---\n",
        "\n",
        "**3. What are pre-defined keywords in Python**\n",
        "-  Pre-defined keywords are reserved words that have special meaning in Python. Examples include `if`, `else`, `for`, `while`, `def`, and `class`. They are used to define the syntax and structure of Python programs. You cannot use them as identifiers (variable names).\n",
        "\n",
        "---\n",
        "\n",
        "**4. Can keywords be used as variable names**\n",
        "-  No, keywords cannot be used as variable names in Python. Since they have predefined purposes in the language's syntax, using them as variable names would result in a syntax error. For example, using `if = 5` is invalid.\n",
        "\n",
        "---\n",
        "\n",
        "**5. What is mutability in Python**\n",
        "-  Mutability refers to whether an object can be changed after it’s created. Mutable objects can be altered in place (e.g., lists, dictionaries), while immutable objects cannot (e.g., strings, tuples). This concept affects how variables behave when passed or modified.\n",
        "\n",
        "---\n",
        "\n",
        "**6. Why are lists mutable, but tuples are immutable**\n",
        "-  Lists are designed to store dynamic data, so they allow adding, removing, or modifying elements—making them mutable. Tuples, on the other hand, are intended to represent fixed collections of items and thus do not allow modification, making them immutable.\n",
        "\n",
        "---\n",
        "\n",
        "**7. What is the difference between “==” and “is” operators in Python**\n",
        "-  The `==` operator checks if the values of two variables are equal, while the `is` operator checks if they refer to the same object in memory. For example, two lists with the same content are `==` but not `is` unless they are the same object.\n",
        "\n",
        "---\n",
        "\n",
        "**8. What are logical operators in Python**\n",
        "-  Logical operators are used to combine conditional statements. Python has three logical operators: `and`, `or`, and `not`. They return Boolean values (`True` or `False`) and are commonly used in control flow and decision-making.\n",
        "\n",
        "---\n",
        "\n",
        "**9. What is type casting in Python**\n",
        "-  Type casting is the process of converting a value from one data type to another. For example, using `int('10')` converts a string to an integer. Python supports both implicit and explicit type casting.\n",
        "\n",
        "---\n",
        "\n",
        "**10. What is the difference between implicit and explicit type casting**\n",
        "-  Implicit type casting is done automatically by Python (e.g., `int + float` results in float). Explicit type casting is manually done using functions like `int()`, `float()`, or `str()` to convert data types. Explicit casting is more controlled and intentional.\n",
        "\n",
        "---\n",
        "\n",
        "**11. What is the purpose of conditional statements in Python**\n",
        "-  Conditional statements allow a program to make decisions based on certain conditions. They control the flow of execution using `if`, `elif`, and `else`. This helps in writing dynamic and responsive code that reacts to different inputs or states.\n",
        "\n",
        "---\n",
        "\n",
        "**12.How does the elif statement work**\n",
        "-  The `elif` statement is used to check multiple conditions after an initial `if`. It stands for \"else if\" and is evaluated only if the previous `if` or `elif` is false. It helps simplify complex decision trees by avoiding multiple nested `if` statements.\n",
        "\n",
        "---\n",
        "\n",
        "**13. What is the difference between for and while loops**\n",
        "-  A `for` loop iterates over a sequence (like a list or range) and is used when the number of iterations is known. A `while` loop continues as long as a condition is true and is used when the number of iterations isn’t predetermined.\n",
        "\n",
        "---\n",
        "\n",
        "**14. Describe a scenario where a while loop is more suitable than a for loop**\n",
        "-  A `while` loop is more suitable when you need to keep running a block of code until a condition changes, and you don’t know in advance how many iterations are needed. For example, reading user input until they type \"exit\".\n",
        "\n",
        "---\n",
        "\n",
        "\n"
      ],
      "metadata": {
        "id": "VWZRz9XODYZF"
      }
    },
    {
      "cell_type": "markdown",
      "source": [
        "## PRACTICAL ANSWERS"
      ],
      "metadata": {
        "id": "3NSJcmoYEHAG"
      }
    },
    {
      "cell_type": "markdown",
      "source": [
        "this are the questions and answers are written respectively"
      ],
      "metadata": {
        "id": "gwbMOmVNHlri"
      }
    },
    {
      "cell_type": "markdown",
      "source": [
        "1.  Write a Python program to print \"Hello, World!\"\n",
        "2. Write a Python program that displays your name and age8\n",
        "3. Write code to print all the pre-defined keywords in Python using the keyword library\n",
        "4. Write a program that checks if a given word is a Python keyword.\n",
        "5. Create a list and tuple in Python, and demonstrate how attempting to change an element works differently\n",
        "for each.\n",
        "6. Write a function to demonstrate the behavior of mutable and immutable arguments.\n",
        "\n",
        "7. Write a program that performs basic arithmetic operations on two user-input numbers.\n",
        "\n",
        "8. Write a program to demonstrate the use of logical operators.\n",
        "\n",
        "9. Write a Python program to convert user input from string to integer, float, and boolean types.\n",
        "\n",
        "10. Write code to demonstrate type casting with list elements.\n",
        "\n",
        "11. Write a program that checks if a number is positive, negative, or zero.\n",
        "\n",
        "12. Write a for loop to print numbers from 1 to 10.\n",
        "\n",
        "13. Write a Python program to find the sum of all even numbers between 1 and 50.\n",
        "\n",
        "14. Write a program to reverse a string using a while loop.\n",
        "15. Write a Python program to calculate the factorial of a number provided by the user using a while loop."
      ],
      "metadata": {
        "id": "JayXjah-HPAQ"
      }
    },
    {
      "cell_type": "code",
      "source": [
        "\n",
        "a = (\"hello , world\")\n",
        "print(a)"
      ],
      "metadata": {
        "colab": {
          "base_uri": "https://localhost:8080/"
        },
        "id": "QaGi3OleEKUc",
        "outputId": "708cb29b-87dc-4684-fe3f-7337b4c4d6a5"
      },
      "execution_count": 2,
      "outputs": [
        {
          "output_type": "stream",
          "name": "stdout",
          "text": [
            "hello , world\n"
          ]
        }
      ]
    },
    {
      "cell_type": "code",
      "source": [
        "name = \"Pratham Patidar\"\n",
        "age = 19\n",
        "\n",
        "print(\"Name:\", name)\n",
        "print(\"Age:\", age)"
      ],
      "metadata": {
        "colab": {
          "base_uri": "https://localhost:8080/"
        },
        "id": "LUtIjq4kELnP",
        "outputId": "58e48f53-1d1d-4290-bcf8-a98dd4f65f98"
      },
      "execution_count": 4,
      "outputs": [
        {
          "output_type": "stream",
          "name": "stdout",
          "text": [
            "Name: Pratham Patidar\n",
            "Age: 19\n"
          ]
        }
      ]
    },
    {
      "cell_type": "code",
      "source": [
        "import keyword\n",
        "\n",
        "# Get the list of all Python keywords\n",
        "keywords = keyword.kwlist\n",
        "\n",
        "# Print each keyword\n",
        "print(\"Python Keywords:\")\n",
        "for kw in keywords:\n",
        "    print(kw)\n"
      ],
      "metadata": {
        "colab": {
          "base_uri": "https://localhost:8080/"
        },
        "id": "R38YI2I4ELkd",
        "outputId": "e5c831f7-53ba-4ca8-8c72-60c6e53c3da7"
      },
      "execution_count": 5,
      "outputs": [
        {
          "output_type": "stream",
          "name": "stdout",
          "text": [
            "Python Keywords:\n",
            "False\n",
            "None\n",
            "True\n",
            "and\n",
            "as\n",
            "assert\n",
            "async\n",
            "await\n",
            "break\n",
            "class\n",
            "continue\n",
            "def\n",
            "del\n",
            "elif\n",
            "else\n",
            "except\n",
            "finally\n",
            "for\n",
            "from\n",
            "global\n",
            "if\n",
            "import\n",
            "in\n",
            "is\n",
            "lambda\n",
            "nonlocal\n",
            "not\n",
            "or\n",
            "pass\n",
            "raise\n",
            "return\n",
            "try\n",
            "while\n",
            "with\n",
            "yield\n"
          ]
        }
      ]
    },
    {
      "cell_type": "code",
      "source": [
        "import keyword\n",
        "\n",
        "# Input from user\n",
        "word = input(\"Enter a word: \")\n",
        "\n",
        "# Check if it's a keyword\n",
        "if keyword.iskeyword(word):\n",
        "    print(f\"'{word}' is a Python keyword.\")\n",
        "else:\n",
        "    print(f\"'{word}' is not a Python keyword.\")\n"
      ],
      "metadata": {
        "colab": {
          "base_uri": "https://localhost:8080/"
        },
        "id": "UxLOohtXELht",
        "outputId": "48d3dadb-314e-4e46-84d6-3aac1f5362a4"
      },
      "execution_count": 6,
      "outputs": [
        {
          "output_type": "stream",
          "name": "stdout",
          "text": [
            "Enter a word: try\n",
            "'try' is a Python keyword.\n"
          ]
        }
      ]
    },
    {
      "cell_type": "code",
      "source": [
        "# Creating a list and a tuple\n",
        "my_list = [10, 20, 30]\n",
        "my_tuple = (10, 20, 30)\n",
        "\n",
        "# Modifying list element\n",
        "my_list[1] = 99\n",
        "print(\"Modified list:\", my_list)\n",
        "\n",
        "# Attempting to modify tuple element (will raise an error)\n",
        "try:\n",
        "    my_tuple[1] = 99\n",
        "except TypeError as e:\n",
        "    print(\"Error modifying tuple:\", e)\n"
      ],
      "metadata": {
        "colab": {
          "base_uri": "https://localhost:8080/"
        },
        "id": "Dn3M1Vr-ELfH",
        "outputId": "a6178deb-1a2c-4271-c139-e8f049b5cde2"
      },
      "execution_count": 7,
      "outputs": [
        {
          "output_type": "stream",
          "name": "stdout",
          "text": [
            "Modified list: [10, 99, 30]\n",
            "Error modifying tuple: 'tuple' object does not support item assignment\n"
          ]
        }
      ]
    },
    {
      "cell_type": "code",
      "source": [
        "def change(things, number):\n",
        "    things.append(4)     # list is mutable, will change\n",
        "    number += 1          # int is immutable, won't change outside\n",
        "\n",
        "my_list = [1, 2, 3]\n",
        "my_number = 10\n",
        "\n",
        "change(my_list, my_number)\n",
        "\n",
        "print(\"List after function call:\", my_list)      # [1, 2, 3, 4]\n",
        "print(\"Number after function call:\", my_number)  # 10\n"
      ],
      "metadata": {
        "colab": {
          "base_uri": "https://localhost:8080/"
        },
        "id": "Tmg_wyh8ELcl",
        "outputId": "1dc6be92-6fcc-45e2-9cb1-e171b2532fa9"
      },
      "execution_count": 8,
      "outputs": [
        {
          "output_type": "stream",
          "name": "stdout",
          "text": [
            "List after function call: [1, 2, 3, 4]\n",
            "Number after function call: 10\n"
          ]
        }
      ]
    },
    {
      "cell_type": "code",
      "source": [
        "# Take input from user\n",
        "num1 = float(input(\"Enter first number: \"))\n",
        "num2 = float(input(\"Enter second number: \"))\n",
        "\n",
        "# Perform operations\n",
        "print(\"Addition:\", num1 + num2)\n",
        "print(\"Subtraction:\", num1 - num2)\n",
        "print(\"Multiplication:\", num1 * num2)\n",
        "if num2 != 0:\n",
        "    print(\"Division:\", num1 / num2)\n",
        "else:\n",
        "    print(\"Division: Cannot divide by zero\")\n"
      ],
      "metadata": {
        "colab": {
          "base_uri": "https://localhost:8080/"
        },
        "id": "KFiYdDg5ELZ4",
        "outputId": "71f5c48f-bec8-414d-d085-b3dcb1281650"
      },
      "execution_count": 9,
      "outputs": [
        {
          "output_type": "stream",
          "name": "stdout",
          "text": [
            "Enter first number: 100\n",
            "Enter second number: 200\n",
            "Addition: 300.0\n",
            "Subtraction: -100.0\n",
            "Multiplication: 20000.0\n",
            "Division: 0.5\n"
          ]
        }
      ]
    },
    {
      "cell_type": "code",
      "source": [
        "a = 10\n",
        "b = 5\n",
        "c = 10\n",
        "\n",
        "print(\"a == c and b < a:\", a == c and b < a)  # True and True => True\n",
        "print(\"a == b or b > a:\", a == b or b > a)    # False or False => False\n",
        "print(\"not(a < b):\", not(a < b))              # not(False) => True\n"
      ],
      "metadata": {
        "colab": {
          "base_uri": "https://localhost:8080/"
        },
        "id": "yyVkLMmvELXX",
        "outputId": "537c9b7a-70c1-4bb2-d388-7e1aa56934c6"
      },
      "execution_count": 10,
      "outputs": [
        {
          "output_type": "stream",
          "name": "stdout",
          "text": [
            "a == c and b < a: True\n",
            "a == b or b > a: False\n",
            "not(a < b): True\n"
          ]
        }
      ]
    },
    {
      "cell_type": "code",
      "source": [
        "user_input = input(\"Enter a value: \")\n",
        "\n",
        "# Convert and print\n",
        "print(\"As integer:\", int(user_input))\n",
        "print(\"As float:\", float(user_input))\n",
        "print(\"As boolean:\", bool(user_input))\n"
      ],
      "metadata": {
        "colab": {
          "base_uri": "https://localhost:8080/"
        },
        "id": "gOUhx0t3ELUt",
        "outputId": "a3e903ab-2ab7-4d29-8ad1-ce32929411d8"
      },
      "execution_count": 11,
      "outputs": [
        {
          "output_type": "stream",
          "name": "stdout",
          "text": [
            "Enter a value: 40\n",
            "As integer: 40\n",
            "As float: 40.0\n",
            "As boolean: True\n"
          ]
        }
      ]
    },
    {
      "cell_type": "code",
      "source": [
        "str_list = [\"1\", \"2\", \"3\"]\n",
        "int_list = [int(x) for x in str_list]\n",
        "\n",
        "print(\"Original list (strings):\", str_list)\n",
        "print(\"Converted list (integers):\", int_list)\n"
      ],
      "metadata": {
        "colab": {
          "base_uri": "https://localhost:8080/"
        },
        "id": "SeIU0cWxELSF",
        "outputId": "1e082245-b071-47db-e1f5-3506fffd5ed3"
      },
      "execution_count": 12,
      "outputs": [
        {
          "output_type": "stream",
          "name": "stdout",
          "text": [
            "Original list (strings): ['1', '2', '3']\n",
            "Converted list (integers): [1, 2, 3]\n"
          ]
        }
      ]
    },
    {
      "cell_type": "code",
      "source": [
        "num = float(input(\"Enter a number: \"))\n",
        "\n",
        "if num > 0:\n",
        "    print(\"Positive number\")\n",
        "elif num < 0:\n",
        "    print(\"Negative number\")\n",
        "else:\n",
        "    print(\"Zero\")\n"
      ],
      "metadata": {
        "colab": {
          "base_uri": "https://localhost:8080/"
        },
        "id": "PEJXgiVRELP3",
        "outputId": "07520e11-dea7-4861-8937-b7a75b869553"
      },
      "execution_count": 13,
      "outputs": [
        {
          "output_type": "stream",
          "name": "stdout",
          "text": [
            "Enter a number: 41\n",
            "Positive number\n"
          ]
        }
      ]
    },
    {
      "cell_type": "code",
      "source": [
        "for i in range(1, 11):\n",
        "    print(i)\n"
      ],
      "metadata": {
        "colab": {
          "base_uri": "https://localhost:8080/"
        },
        "id": "PTgU0CrkELNM",
        "outputId": "79fae383-0cd7-41a6-a52b-e0a0f2c58199"
      },
      "execution_count": 14,
      "outputs": [
        {
          "output_type": "stream",
          "name": "stdout",
          "text": [
            "1\n",
            "2\n",
            "3\n",
            "4\n",
            "5\n",
            "6\n",
            "7\n",
            "8\n",
            "9\n",
            "10\n"
          ]
        }
      ]
    },
    {
      "cell_type": "code",
      "source": [
        "total = 0\n",
        "for i in range(2, 51, 2):\n",
        "    total += i\n",
        "print(\"Sum of even numbers from 1 to 50:\", total)\n"
      ],
      "metadata": {
        "colab": {
          "base_uri": "https://localhost:8080/"
        },
        "id": "GAF7U71cELKe",
        "outputId": "a6d445a6-c96f-4a37-a955-611cbef7a906"
      },
      "execution_count": 15,
      "outputs": [
        {
          "output_type": "stream",
          "name": "stdout",
          "text": [
            "Sum of even numbers from 1 to 50: 650\n"
          ]
        }
      ]
    },
    {
      "cell_type": "code",
      "source": [
        "text = input(\"Enter a string: \")\n",
        "reversed_text = \"\"\n",
        "i = len(text) - 1\n",
        "\n",
        "while i >= 0:\n",
        "    reversed_text += text[i]\n",
        "    i -= 1\n",
        "\n",
        "print(\"Reversed string:\", reversed_text)\n"
      ],
      "metadata": {
        "colab": {
          "base_uri": "https://localhost:8080/"
        },
        "id": "j9-1mA9qELH8",
        "outputId": "6230bdf6-83eb-46e5-d32f-f16f7c4615a1"
      },
      "execution_count": 16,
      "outputs": [
        {
          "output_type": "stream",
          "name": "stdout",
          "text": [
            "Enter a string: 50\n",
            "Reversed string: 05\n"
          ]
        }
      ]
    },
    {
      "cell_type": "code",
      "source": [
        "num = int(input(\"Enter a number: \"))\n",
        "fact = 1\n",
        "i = 1\n",
        "\n",
        "while i <= num:\n",
        "    fact *= i\n",
        "    i += 1\n",
        "\n",
        "print(\"Factorial of\", num, \"is\", fact)\n"
      ],
      "metadata": {
        "colab": {
          "base_uri": "https://localhost:8080/"
        },
        "id": "jNrPNmLRELC0",
        "outputId": "81e62ec8-f1f1-4e05-d7c8-8c33df509838"
      },
      "execution_count": 18,
      "outputs": [
        {
          "output_type": "stream",
          "name": "stdout",
          "text": [
            "Enter a number: 5\n",
            "Factorial of 5 is 120\n"
          ]
        }
      ]
    },
    {
      "cell_type": "code",
      "source": [],
      "metadata": {
        "id": "FdJC8EdIELAk"
      },
      "execution_count": 18,
      "outputs": []
    }
  ]
}