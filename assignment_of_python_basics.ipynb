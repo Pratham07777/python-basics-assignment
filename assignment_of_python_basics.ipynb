{
  "nbformat": 4,
  "nbformat_minor": 0,
  "metadata": {
    "colab": {
      "provenance": [],
      "authorship_tag": "ABX9TyM+XinLAnZ/f9ZISrurtVNL",
      "include_colab_link": true
    },
    "kernelspec": {
      "name": "python3",
      "display_name": "Python 3"
    },
    "language_info": {
      "name": "python"
    }
  },
  "cells": [
    {
      "cell_type": "markdown",
      "metadata": {
        "id": "view-in-github",
        "colab_type": "text"
      },
      "source": [
        "<a href=\"https://colab.research.google.com/github/Pratham07777/python-basics-assignment/blob/main/assignment_of_python_basics.ipynb\" target=\"_parent\"><img src=\"https://colab.research.google.com/assets/colab-badge.svg\" alt=\"Open In Colab\"/></a>"
      ]
    },
    {
      "cell_type": "markdown",
      "source": [
        "ASSIGNMENT OF PYTHON BASICS"
      ],
      "metadata": {
        "id": "XsLCy1bAD7bO"
      }
    },
    {
      "cell_type": "markdown",
      "source": [
        "## THEORY ANSWERS"
      ],
      "metadata": {
        "id": "TNflL-4ID1Hj"
      }
    },
    {
      "cell_type": "markdown",
      "source": [
        "\n",
        "\n",
        "---\n",
        "\n",
        "**1. What is Python, and why is it popular**\n",
        "-  Python is a high-level, interpreted programming language known for its simple syntax and readability. It supports multiple programming paradigms and has vast libraries. It's popular for web development, data science, automation, and AI. Its community support and ease of learning make it a top choice for beginners and professionals alike.\n",
        "\n",
        "---\n",
        "\n",
        "**2. What is an interpreter in Python**\n",
        "-  An interpreter is a program that reads and executes Python code line by line. Unlike compilers, interpreters don’t generate machine code files but run code directly. Python uses an interpreter to translate high-level code into machine-understandable instructions at runtime.\n",
        "\n",
        "---\n",
        "\n",
        "**3. What are pre-defined keywords in Python**\n",
        "-  Pre-defined keywords are reserved words that have special meaning in Python. Examples include `if`, `else`, `for`, `while`, `def`, and `class`. They are used to define the syntax and structure of Python programs. You cannot use them as identifiers (variable names).\n",
        "\n",
        "---\n",
        "\n",
        "**4. Can keywords be used as variable names**\n",
        "-  No, keywords cannot be used as variable names in Python. Since they have predefined purposes in the language's syntax, using them as variable names would result in a syntax error. For example, using `if = 5` is invalid.\n",
        "\n",
        "---\n",
        "\n",
        "**5. What is mutability in Python**\n",
        "-  Mutability refers to whether an object can be changed after it’s created. Mutable objects can be altered in place (e.g., lists, dictionaries), while immutable objects cannot (e.g., strings, tuples). This concept affects how variables behave when passed or modified.\n",
        "\n",
        "---\n",
        "\n",
        "**6. Why are lists mutable, but tuples are immutable**\n",
        "-  Lists are designed to store dynamic data, so they allow adding, removing, or modifying elements—making them mutable. Tuples, on the other hand, are intended to represent fixed collections of items and thus do not allow modification, making them immutable.\n",
        "\n",
        "---\n",
        "\n",
        "**7. What is the difference between “==” and “is” operators in Python**\n",
        "-  The `==` operator checks if the values of two variables are equal, while the `is` operator checks if they refer to the same object in memory. For example, two lists with the same content are `==` but not `is` unless they are the same object.\n",
        "\n",
        "---\n",
        "\n",
        "**8. What are logical operators in Python**\n",
        "-  Logical operators are used to combine conditional statements. Python has three logical operators: `and`, `or`, and `not`. They return Boolean values (`True` or `False`) and are commonly used in control flow and decision-making.\n",
        "\n",
        "---\n",
        "\n",
        "**9. What is type casting in Python**\n",
        "-  Type casting is the process of converting a value from one data type to another. For example, using `int('10')` converts a string to an integer. Python supports both implicit and explicit type casting.\n",
        "\n",
        "---\n",
        "\n",
        "**10. What is the difference between implicit and explicit type casting**\n",
        "-  Implicit type casting is done automatically by Python (e.g., `int + float` results in float). Explicit type casting is manually done using functions like `int()`, `float()`, or `str()` to convert data types. Explicit casting is more controlled and intentional.\n",
        "\n",
        "---\n",
        "\n",
        "**11. What is the purpose of conditional statements in Python**\n",
        "-  Conditional statements allow a program to make decisions based on certain conditions. They control the flow of execution using `if`, `elif`, and `else`. This helps in writing dynamic and responsive code that reacts to different inputs or states.\n",
        "\n",
        "---\n",
        "\n",
        "**12.How does the elif statement work**\n",
        "-  The `elif` statement is used to check multiple conditions after an initial `if`. It stands for \"else if\" and is evaluated only if the previous `if` or `elif` is false. It helps simplify complex decision trees by avoiding multiple nested `if` statements.\n",
        "\n",
        "---\n",
        "\n",
        "**13. What is the difference between for and while loops**\n",
        "-  A `for` loop iterates over a sequence (like a list or range) and is used when the number of iterations is known. A `while` loop continues as long as a condition is true and is used when the number of iterations isn’t predetermined.\n",
        "\n",
        "---\n",
        "\n",
        "**14. Describe a scenario where a while loop is more suitable than a for loop**\n",
        "-  A `while` loop is more suitable when you need to keep running a block of code until a condition changes, and you don’t know in advance how many iterations are needed. For example, reading user input until they type \"exit\".\n",
        "\n",
        "---\n",
        "\n",
        "\n"
      ],
      "metadata": {
        "id": "VWZRz9XODYZF"
      }
    },
    {
      "cell_type": "markdown",
      "source": [
        "## PRACTICAL ANSWERS"
      ],
      "metadata": {
        "id": "3NSJcmoYEHAG"
      }
    },
    {
      "cell_type": "markdown",
      "source": [
        "this are the questions and answers are written respectively"
      ],
      "metadata": {
        "id": "gwbMOmVNHlri"
      }
    },
    {
      "cell_type": "markdown",
      "source": [
        "1.  Write a Python program to print \"Hello, World!\"\n",
        "2. Write a Python program that displays your name and age8\n",
        "3. Write code to print all the pre-defined keywords in Python using the keyword library\n",
        "4. Write a program that checks if a given word is a Python keyword.\n",
        "5. Create a list and tuple in Python, and demonstrate how attempting to change an element works differently\n",
        "for each.\n",
        "6. Write a function to demonstrate the behavior of mutable and immutable arguments.\n",
        "\n",
        "7. Write a program that performs basic arithmetic operations on two user-input numbers.\n",
        "\n",
        "8. Write a program to demonstrate the use of logical operators.\n",
        "\n",
        "9. Write a Python program to convert user input from string to integer, float, and boolean types.\n",
        "\n",
        "10. Write code to demonstrate type casting with list elements.\n",
        "\n",
        "11. Write a program that checks if a number is positive, negative, or zero.\n",
        "\n",
        "12. Write a for loop to print numbers from 1 to 10.\n",
        "\n",
        "13. Write a Python program to find the sum of all even numbers between 1 and 50.\n",
        "\n",
        "14. Write a program to reverse a string using a while loop.\n",
        "15. Write a Python program to calculate the factorial of a number provided by the user using a while loop."
      ],
      "metadata": {
        "id": "JayXjah-HPAQ"
      }
    },
    {
      "cell_type": "code",
      "source": [
        "## 1. write a python program to print hello world\n",
        "a = (\"hello , world\")\n",
        "print(a)"
      ],
      "metadata": {
        "colab": {
          "base_uri": "https://localhost:8080/"
        },
        "id": "QaGi3OleEKUc",
        "outputId": "63f2e7c0-5e16-41e4-9bf6-7f7c6fdd2655"
      },
      "execution_count": 20,
      "outputs": [
        {
          "output_type": "stream",
          "name": "stdout",
          "text": [
            "hello , world\n"
          ]
        }
      ]
    },
    {
      "cell_type": "code",
      "source": [
        "## 2. Write a Python program that displays your name and age\n",
        "\n",
        "name = \"Pratham Patidar\"\n",
        "age = 19\n",
        "\n",
        "print(\"Name:\", name)\n",
        "print(\"Age:\", age)"
      ],
      "metadata": {
        "colab": {
          "base_uri": "https://localhost:8080/"
        },
        "id": "LUtIjq4kELnP",
        "outputId": "91753c91-b772-4fa0-e2f3-b1096a88d229"
      },
      "execution_count": 21,
      "outputs": [
        {
          "output_type": "stream",
          "name": "stdout",
          "text": [
            "Name: Pratham Patidar\n",
            "Age: 19\n"
          ]
        }
      ]
    },
    {
      "cell_type": "code",
      "source": [
        "## 3.Write code to print all the pre-defined keywords in Python using the keyword library\n",
        "\n",
        "import keyword\n",
        "\n",
        "# Get the list of all Python keywords\n",
        "keywords = keyword.kwlist\n",
        "\n",
        "# Print each keyword\n",
        "print(\"Python Keywords:\")\n",
        "for kw in keywords:\n",
        "    print(kw)\n"
      ],
      "metadata": {
        "colab": {
          "base_uri": "https://localhost:8080/"
        },
        "id": "R38YI2I4ELkd",
        "outputId": "e3e2118c-60ce-4f8c-9911-1b93938926bd"
      },
      "execution_count": 22,
      "outputs": [
        {
          "output_type": "stream",
          "name": "stdout",
          "text": [
            "Python Keywords:\n",
            "False\n",
            "None\n",
            "True\n",
            "and\n",
            "as\n",
            "assert\n",
            "async\n",
            "await\n",
            "break\n",
            "class\n",
            "continue\n",
            "def\n",
            "del\n",
            "elif\n",
            "else\n",
            "except\n",
            "finally\n",
            "for\n",
            "from\n",
            "global\n",
            "if\n",
            "import\n",
            "in\n",
            "is\n",
            "lambda\n",
            "nonlocal\n",
            "not\n",
            "or\n",
            "pass\n",
            "raise\n",
            "return\n",
            "try\n",
            "while\n",
            "with\n",
            "yield\n"
          ]
        }
      ]
    },
    {
      "cell_type": "code",
      "source": [
        "## 4. Write a program that checks if a given word is a Python keyword.\n",
        "\n",
        "import keyword\n",
        "\n",
        "# Input from user\n",
        "word = input(\"Enter a word: \")\n",
        "\n",
        "# Check if it's a keyword\n",
        "if keyword.iskeyword(word):\n",
        "    print(f\"'{word}' is a Python keyword.\")\n",
        "else:\n",
        "    print(f\"'{word}' is not a Python keyword.\")\n"
      ],
      "metadata": {
        "colab": {
          "base_uri": "https://localhost:8080/"
        },
        "id": "UxLOohtXELht",
        "outputId": "de8d6c74-37f1-4760-ccb7-01247b8b9c79"
      },
      "execution_count": 23,
      "outputs": [
        {
          "output_type": "stream",
          "name": "stdout",
          "text": [
            "Enter a word: try\n",
            "'try' is a Python keyword.\n"
          ]
        }
      ]
    },
    {
      "cell_type": "code",
      "source": [
        "## 5. Create a list and tuple in Python, and demonstrate how attempting to change an element works differently for each.\n",
        "\n",
        "\n",
        "# Creating a list and a tuple\n",
        "my_list = [10, 20, 30]\n",
        "my_tuple = (10, 20, 30)\n",
        "\n",
        "# Modifying list element\n",
        "my_list[1] = 99\n",
        "print(\"Modified list:\", my_list)\n",
        "\n",
        "# Attempting to modify tuple element (will raise an error)\n",
        "try:\n",
        "    my_tuple[1] = 99\n",
        "except TypeError as e:\n",
        "    print(\"Error modifying tuple:\", e)\n"
      ],
      "metadata": {
        "colab": {
          "base_uri": "https://localhost:8080/"
        },
        "id": "Dn3M1Vr-ELfH",
        "outputId": "ba9131c0-b682-4432-8618-efcd540ee42c"
      },
      "execution_count": 24,
      "outputs": [
        {
          "output_type": "stream",
          "name": "stdout",
          "text": [
            "Modified list: [10, 99, 30]\n",
            "Error modifying tuple: 'tuple' object does not support item assignment\n"
          ]
        }
      ]
    },
    {
      "cell_type": "code",
      "source": [
        "## 6. Write a function to demonstrate the behavior of mutable and immutable arguments.\n",
        "\n",
        "def change(things, number):\n",
        "    things.append(4)     # list is mutable, will change\n",
        "    number += 1          # int is immutable, won't change outside\n",
        "\n",
        "my_list = [1, 2, 3]\n",
        "my_number = 10\n",
        "\n",
        "change(my_list, my_number)\n",
        "\n",
        "print(\"List after function call:\", my_list)      # [1, 2, 3, 4]\n",
        "print(\"Number after function call:\", my_number)  # 10\n"
      ],
      "metadata": {
        "colab": {
          "base_uri": "https://localhost:8080/"
        },
        "id": "Tmg_wyh8ELcl",
        "outputId": "c199e13b-fa80-4575-add9-efbef7b483fb"
      },
      "execution_count": 25,
      "outputs": [
        {
          "output_type": "stream",
          "name": "stdout",
          "text": [
            "List after function call: [1, 2, 3, 4]\n",
            "Number after function call: 10\n"
          ]
        }
      ]
    },
    {
      "cell_type": "code",
      "source": [
        "## 7. Write a program that performs basic arithmetic operations on two user-input numbers.\n",
        "\n",
        "# Take input from user\n",
        "num1 = float(input(\"Enter first number: \"))\n",
        "num2 = float(input(\"Enter second number: \"))\n",
        "\n",
        "# Perform operations\n",
        "print(\"Addition:\", num1 + num2)\n",
        "print(\"Subtraction:\", num1 - num2)\n",
        "print(\"Multiplication:\", num1 * num2)\n",
        "if num2 != 0:\n",
        "    print(\"Division:\", num1 / num2)\n",
        "else:\n",
        "    print(\"Division: Cannot divide by zero\")\n"
      ],
      "metadata": {
        "colab": {
          "base_uri": "https://localhost:8080/"
        },
        "id": "KFiYdDg5ELZ4",
        "outputId": "c5cef8ae-93c3-4eb1-cf08-7ff8069b9eed"
      },
      "execution_count": 26,
      "outputs": [
        {
          "output_type": "stream",
          "name": "stdout",
          "text": [
            "Enter first number: 200\n",
            "Enter second number: 5\n",
            "Addition: 205.0\n",
            "Subtraction: 195.0\n",
            "Multiplication: 1000.0\n",
            "Division: 40.0\n"
          ]
        }
      ]
    },
    {
      "cell_type": "code",
      "source": [
        "## 8.  Write a program to demonstrate the use of logical operators.\n",
        "\n",
        "a = 10\n",
        "b = 5\n",
        "c = 10\n",
        "\n",
        "print(\"a == c and b < a:\", a == c and b < a)  # True and True => True\n",
        "print(\"a == b or b > a:\", a == b or b > a)    # False or False => False\n",
        "print(\"not(a < b):\", not(a < b))              # not(False) => True\n"
      ],
      "metadata": {
        "colab": {
          "base_uri": "https://localhost:8080/"
        },
        "id": "yyVkLMmvELXX",
        "outputId": "f10fb678-8a9b-42ba-e223-c524af3c6c97"
      },
      "execution_count": 27,
      "outputs": [
        {
          "output_type": "stream",
          "name": "stdout",
          "text": [
            "a == c and b < a: True\n",
            "a == b or b > a: False\n",
            "not(a < b): True\n"
          ]
        }
      ]
    },
    {
      "cell_type": "code",
      "source": [
        "## 9. Write a Python program to convert user input from string to integer, float, and boolean types.\n",
        "\n",
        "user_input = input(\"Enter a value: \")\n",
        "\n",
        "# Convert and print\n",
        "print(\"As integer:\", int(user_input))\n",
        "print(\"As float:\", float(user_input))\n",
        "print(\"As boolean:\", bool(user_input))\n"
      ],
      "metadata": {
        "colab": {
          "base_uri": "https://localhost:8080/"
        },
        "id": "gOUhx0t3ELUt",
        "outputId": "08f092c8-6b3e-4b0d-a64b-fe976151bcd6"
      },
      "execution_count": 28,
      "outputs": [
        {
          "output_type": "stream",
          "name": "stdout",
          "text": [
            "Enter a value: 65\n",
            "As integer: 65\n",
            "As float: 65.0\n",
            "As boolean: True\n"
          ]
        }
      ]
    },
    {
      "cell_type": "code",
      "source": [
        "## 10. Write code to demonstrate type casting with list elements.\n",
        "\n",
        "str_list = [\"1\", \"2\", \"3\"]\n",
        "int_list = [int(x) for x in str_list]\n",
        "\n",
        "print(\"Original list (strings):\", str_list)\n",
        "print(\"Converted list (integers):\", int_list)\n"
      ],
      "metadata": {
        "colab": {
          "base_uri": "https://localhost:8080/"
        },
        "id": "SeIU0cWxELSF",
        "outputId": "2fa14879-f66c-4efd-bb27-5aedb9ab066f"
      },
      "execution_count": 29,
      "outputs": [
        {
          "output_type": "stream",
          "name": "stdout",
          "text": [
            "Original list (strings): ['1', '2', '3']\n",
            "Converted list (integers): [1, 2, 3]\n"
          ]
        }
      ]
    },
    {
      "cell_type": "code",
      "source": [
        "## 11. Write a program that checks if a number is positive, negative, or zero.\n",
        "\n",
        "num = float(input(\"Enter a number: \"))\n",
        "\n",
        "if num > 0:\n",
        "    print(\"Positive number\")\n",
        "elif num < 0:\n",
        "    print(\"Negative number\")\n",
        "else:\n",
        "    print(\"Zero\")\n"
      ],
      "metadata": {
        "colab": {
          "base_uri": "https://localhost:8080/"
        },
        "id": "PEJXgiVRELP3",
        "outputId": "233ca2dd-98b6-4975-a54d-4d7a74410282"
      },
      "execution_count": 30,
      "outputs": [
        {
          "output_type": "stream",
          "name": "stdout",
          "text": [
            "Enter a number: 45\n",
            "Positive number\n"
          ]
        }
      ]
    },
    {
      "cell_type": "code",
      "source": [
        "## 12. Write a for loop to print numbers from 1 to 10.\n",
        "\n",
        "for i in range(1, 11):\n",
        "    print(i)\n"
      ],
      "metadata": {
        "colab": {
          "base_uri": "https://localhost:8080/"
        },
        "id": "PTgU0CrkELNM",
        "outputId": "c0711c0b-d8fb-48fb-a032-f43e2d697615"
      },
      "execution_count": 31,
      "outputs": [
        {
          "output_type": "stream",
          "name": "stdout",
          "text": [
            "1\n",
            "2\n",
            "3\n",
            "4\n",
            "5\n",
            "6\n",
            "7\n",
            "8\n",
            "9\n",
            "10\n"
          ]
        }
      ]
    },
    {
      "cell_type": "code",
      "source": [
        "## 13. Write a Python program to find the sum of all even numbers between 1 and 50\n",
        "\n",
        "total = 0\n",
        "for i in range(2, 51, 2):\n",
        "    total += i\n",
        "print(\"Sum of even numbers from 1 to 50:\", total)\n"
      ],
      "metadata": {
        "colab": {
          "base_uri": "https://localhost:8080/"
        },
        "id": "GAF7U71cELKe",
        "outputId": "50464baf-8e3f-445a-b7fb-36e455c4347d"
      },
      "execution_count": 32,
      "outputs": [
        {
          "output_type": "stream",
          "name": "stdout",
          "text": [
            "Sum of even numbers from 1 to 50: 650\n"
          ]
        }
      ]
    },
    {
      "cell_type": "code",
      "source": [
        "## 14.  Write a program to reverse a string using a while loop.\n",
        "\n",
        "text = input(\"Enter a string: \")\n",
        "reversed_text = \"\"\n",
        "i = len(text) - 1\n",
        "\n",
        "while i >= 0:\n",
        "    reversed_text += text[i]\n",
        "    i -= 1\n",
        "\n",
        "print(\"Reversed string:\", reversed_text)\n"
      ],
      "metadata": {
        "colab": {
          "base_uri": "https://localhost:8080/"
        },
        "id": "j9-1mA9qELH8",
        "outputId": "3f55e9c7-53be-4da6-88e6-2a220d83c939"
      },
      "execution_count": 33,
      "outputs": [
        {
          "output_type": "stream",
          "name": "stdout",
          "text": [
            "Enter a string: 56\n",
            "Reversed string: 65\n"
          ]
        }
      ]
    },
    {
      "cell_type": "code",
      "source": [
        "## 15. Write a Python program to calculate the factorial of a number provided by the user using a while loop\n",
        "num = int(input(\"Enter a number: \"))\n",
        "fact = 1\n",
        "i = 1\n",
        "\n",
        "while i <= num:\n",
        "    fact *= i\n",
        "    i += 1\n",
        "\n",
        "print(\"Factorial of\", num, \"is\", fact)\n"
      ],
      "metadata": {
        "colab": {
          "base_uri": "https://localhost:8080/"
        },
        "id": "jNrPNmLRELC0",
        "outputId": "1acc3b64-912a-40d3-b4d2-a06bf88f4ca9"
      },
      "execution_count": 35,
      "outputs": [
        {
          "output_type": "stream",
          "name": "stdout",
          "text": [
            "Enter a number: 5\n",
            "Factorial of 5 is 120\n"
          ]
        }
      ]
    },
    {
      "cell_type": "code",
      "source": [],
      "metadata": {
        "id": "FdJC8EdIELAk"
      },
      "execution_count": 34,
      "outputs": []
    }
  ]
}